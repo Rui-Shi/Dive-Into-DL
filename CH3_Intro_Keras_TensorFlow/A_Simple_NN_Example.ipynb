{
 "cells": [
  {
   "cell_type": "markdown",
   "id": "1a28becf",
   "metadata": {},
   "source": [
    "# Use  Keras to classify handwritten digits"
   ]
  },
  {
   "cell_type": "markdown",
   "id": "80089dee",
   "metadata": {},
   "source": [
    "## 1. Loading the MINIST dataset in Keras, and plot some examples"
   ]
  },
  {
   "cell_type": "code",
   "execution_count": 5,
   "id": "8a7620ac",
   "metadata": {},
   "outputs": [],
   "source": [
    "from keras.datasets import mnist\n",
    "import matplotlib.pyplot as plt\n",
    "(train_images, train_labels), (test_images, test_labels) = mnist.load_data()"
   ]
  },
  {
   "cell_type": "code",
   "execution_count": 6,
   "id": "b59ffbb1",
   "metadata": {},
   "outputs": [
    {
     "data": {
      "image/png": "[encoded data removed]",
      "text/plain": [
       "<Figure size 1000x500 with 3 Axes>"
      ]
     },
     "metadata": {},
     "output_type": "display_data"
    }
   ],
   "source": [
    "# some sample images\n",
    "# Create a figure to contain the plots\n",
    "plt.figure(figsize=(10, 5))\n",
    "\n",
    "# Loop to plot the first three images\n",
    "for i in range(3):\n",
    "    # Create a subplot for each image (1 row, 3 columns, i+1 is the index)\n",
    "    plt.subplot(1, 3, i + 1)\n",
    "    \n",
    "    # Display the image in grayscale\n",
    "    plt.imshow(train_images[i], cmap='gray')\n",
    "    \n",
    "    # Add a title with the corresponding label\n",
    "    plt.title(f\"Label: {train_labels[i]}\")\n",
    "    \n",
    "    # Hide the x and y axes ticks\n",
    "    plt.axis('off')\n",
    "\n",
    "# Show the final plot\n",
    "plt.show()\n"
   ]
  },
  {
   "cell_type": "code",
   "execution_count": 10,
   "id": "2bf40405",
   "metadata": {},
   "outputs": [
    {
     "name": "stdout",
     "output_type": "stream",
     "text": [
      "(60000, 28, 28)\n",
      "[5 0 4 ... 5 6 8]\n",
      "(10000, 28, 28)\n",
      "[7 2 1 ... 4 5 6]\n"
     ]
    }
   ],
   "source": [
    "# dimensions\n",
    "print(train_images.shape)\n",
    "print(train_labels)\n",
    "\n",
    "print(test_images.shape)\n",
    "print(test_labels)"
   ]
  },
  {
   "cell_type": "markdown",
   "id": "fcf17e3f",
   "metadata": {},
   "source": [
    "## 2. The Network Architecture and optimizer"
   ]
  },
  {
   "cell_type": "code",
   "execution_count": 16,
   "id": "7e9d67a8",
   "metadata": {},
   "outputs": [],
   "source": [
    "from tensorflow import keras\n",
    "from keras import layers\n",
    "\n",
    "# Define the model architecture. A Sequential model is used for a simple,\n",
    "# linear stack of layers.\n",
    "model = keras.Sequential([\n",
    "    \n",
    "    # The first layer is a fully-connected (Dense) hidden layer.\n",
    "    # It has 512 neurons (or units).\n",
    "    # The 'relu' (Rectified Linear Unit) activation function introduces\n",
    "    # non-linearity into the model, allowing it to learn more complex patterns.\n",
    "    layers.Dense(512, activation='relu'),\n",
    "    \n",
    "    # The second layer is the output layer. It is also a fully-connected layer.\n",
    "    # It has 10 neurons, which corresponds to the 10 possible classes (digits 0-9).\n",
    "    # The 'softmax' activation function converts the layer's raw output scores\n",
    "    # into a probability distribution, where each value represents the probability\n",
    "    # that the input image belongs to that specific class.\n",
    "    layers.Dense(10, activation=\"softmax\")\n",
    "])\n",
    "\n",
    "# Configure the model for training by specifying the optimizer, loss function,\n",
    "# and metrics to monitor.\n",
    "model.compile(\n",
    "    \n",
    "    # The 'optimizer' is the algorithm used to update the model's weights\n",
    "    # in response to the training data. 'rmsprop' is an efficient and popular choice.\n",
    "    optimizer='rmsprop',\n",
    "    \n",
    "    # The 'loss' function measures how inaccurate the model is during training.\n",
    "    # We use 'sparse_categorical_crossentropy' because this is a multi-class\n",
    "    # classification problem and our labels are integers (e.g., 7), not\n",
    "    # one-hot encoded vectors (e.g., [0,0,0,0,0,0,0,1,0,0]).\n",
    "    loss='sparse_categorical_crossentropy',\n",
    "    \n",
    "    # 'metrics' are used to monitor the model's performance. 'accuracy' will\n",
    "    # calculate the fraction of images that are correctly classified during\n",
    "    # training and testing.\n",
    "    metrics=['accuracy']\n",
    ")"
   ]
  },
  {
   "cell_type": "markdown",
   "id": "a7110edf",
   "metadata": {},
   "source": [
    "## 3. Preparing the image data"
   ]
  },
  {
   "cell_type": "code",
   "execution_count": null,
   "id": "cb7cde28",
   "metadata": {},
   "outputs": [],
   "source": []
  }
 ],
 "metadata": {
  "kernelspec": {
   "display_name": "base",
   "language": "python",
   "name": "python3"
  },
  "language_info": {
   "codemirror_mode": {
    "name": "ipython",
    "version": 3
   },
   "file_extension": ".py",
   "mimetype": "text/x-python",
   "name": "python",
   "nbconvert_exporter": "python",
   "pygments_lexer": "ipython3",
   "version": "3.12.11"
  }
 },
 "nbformat": 4,
 "nbformat_minor": 5
}
