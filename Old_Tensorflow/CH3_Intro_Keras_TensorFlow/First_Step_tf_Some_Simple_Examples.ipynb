{
 "cells": [
  {
   "cell_type": "markdown",
   "id": "673bde6d",
   "metadata": {},
   "source": [
    "# First Steps with TensorFlow\n",
    "\n",
    "## 1. Constant tensors and variables"
   ]
  },
  {
   "cell_type": "code",
   "execution_count": 1,
   "id": "8730a74a",
   "metadata": {},
   "outputs": [
    {
     "name": "stdout",
     "output_type": "stream",
     "text": [
      "tf.Tensor(\n",
      "[[1.]\n",
      " [1.]], shape=(2, 1), dtype=float32)\n",
      "tf.Tensor(\n",
      "[[0. 0.]\n",
      " [0. 0.]\n",
      " [0. 0.]], shape=(3, 2), dtype=float32)\n"
     ]
    }
   ],
   "source": [
    "import tensorflow as tf\n",
    "\n",
    "# All one or all-zeros tensors\n",
    "\n",
    "x1 = tf.ones(shape = (2, 1))  # Equivalent to np.ones(shape = (2, 1))\n",
    "x2 = tf.zeros(shape = (3, 2))\n",
    "\n",
    "print(x1)\n",
    "print(x2)\n"
   ]
  },
  {
   "cell_type": "markdown",
   "id": "bc421e28",
   "metadata": {},
   "source": [
    "## 2. Random tensors"
   ]
  },
  {
   "cell_type": "code",
   "execution_count": 7,
   "id": "f08e92eb",
   "metadata": {},
   "outputs": [
    {
     "name": "stdout",
     "output_type": "stream",
     "text": [
      "tf.Tensor(\n",
      "[[ 0.69138986 -1.1380928  -0.10478156 -0.9882285 ]\n",
      " [-0.75249517 -0.91564167  2.2383628  -0.38101903]\n",
      " [-1.9399822   1.0147933  -0.29315448 -0.04191277]], shape=(3, 4), dtype=float32)\n"
     ]
    }
   ],
   "source": [
    "# random numbers draw from a normal distribution\n",
    "\n",
    "x3 = tf.random.normal(shape=(3, 4))\n",
    "\n",
    "print(x3)"
   ]
  },
  {
   "cell_type": "markdown",
   "id": "5c6d1edf",
   "metadata": {},
   "source": [
    "## 3. TensorFlow tensors are not assignable, unlike Numpy arrays"
   ]
  },
  {
   "cell_type": "code",
   "execution_count": null,
   "id": "9870086d",
   "metadata": {},
   "outputs": [
    {
     "ename": "TypeError",
     "evalue": "'tensorflow.python.framework.ops.EagerTensor' object does not support item assignment",
     "output_type": "error",
     "traceback": [
      "\u001b[1;31m---------------------------------------------------------------------------\u001b[0m",
      "\u001b[1;31mTypeError\u001b[0m                                 Traceback (most recent call last)",
      "Cell \u001b[1;32mIn[8], line 1\u001b[0m\n\u001b[1;32m----> 1\u001b[0m x3[\u001b[38;5;241m0\u001b[39m, \u001b[38;5;241m0\u001b[39m] \u001b[38;5;241m=\u001b[39m \u001b[38;5;241m0\u001b[39m\n",
      "\u001b[1;31mTypeError\u001b[0m: 'tensorflow.python.framework.ops.EagerTensor' object does not support item assignment"
     ]
    }
   ],
   "source": [
    "# x3[0, 0] = 0"
   ]
  },
  {
   "cell_type": "markdown",
   "id": "089f7eaa",
   "metadata": {},
   "source": [
    "## 4. Create a TensorFlow Variable"
   ]
  },
  {
   "cell_type": "code",
   "execution_count": 12,
   "id": "ed106b65",
   "metadata": {},
   "outputs": [
    {
     "name": "stdout",
     "output_type": "stream",
     "text": [
      "<tf.Variable 'Variable:0' shape=(3, 2) dtype=float32, numpy=\n",
      "array([[ 1.9938629 , -1.7025366 ],\n",
      "       [ 1.3097914 , -0.8987432 ],\n",
      "       [-0.41046202,  0.42448917]], dtype=float32)>\n",
      "<tf.Variable 'Variable:0' shape=(3, 2) dtype=float32, numpy=\n",
      "array([[1., 1.],\n",
      "       [1., 1.],\n",
      "       [1., 1.]], dtype=float32)>\n",
      "<tf.Variable 'Variable:0' shape=(3, 2) dtype=float32, numpy=\n",
      "array([[0., 1.],\n",
      "       [1., 1.],\n",
      "       [1., 1.]], dtype=float32)>\n"
     ]
    }
   ],
   "source": [
    "# create a tensor variable v1\n",
    "v1 = tf.Variable(initial_value=tf.random.normal(shape=(3, 2)))\n",
    "\n",
    "print(v1)\n",
    "\n",
    "\n",
    "# Assign values to v1\n",
    "v1.assign(tf.ones((3, 2)))\n",
    "print(v1)\n",
    "\n",
    "# Assign a value to v1\n",
    "v1[0, 0].assign(0)\n",
    "print(v1)"
   ]
  },
  {
   "cell_type": "markdown",
   "id": "c69dc96d",
   "metadata": {},
   "source": [
    "## 5. Math operations in TensorFlow"
   ]
  },
  {
   "cell_type": "code",
   "execution_count": 17,
   "id": "2a6eb37d",
   "metadata": {},
   "outputs": [
    {
     "name": "stdout",
     "output_type": "stream",
     "text": [
      "[<tf.Tensor: shape=(2, 2), dtype=float32, numpy=\n",
      "array([[1., 2.],\n",
      "       [3., 4.]], dtype=float32)>, <tf.Tensor: shape=(2, 2), dtype=float32, numpy=\n",
      "array([[ 1.,  4.],\n",
      "       [ 9., 16.]], dtype=float32)>, <tf.Tensor: shape=(2, 2), dtype=float32, numpy=\n",
      "array([[1.       , 1.4142135],\n",
      "       [1.7320508, 2.       ]], dtype=float32)>, <tf.Tensor: shape=(2, 2), dtype=float32, numpy=\n",
      "array([[ 2.       ,  5.4142137],\n",
      "       [10.732051 , 18.       ]], dtype=float32)>, <tf.Tensor: shape=(2, 2), dtype=float32, numpy=\n",
      "array([[19., 36.],\n",
      "       [39., 76.]], dtype=float32)>, <tf.Tensor: shape=(2, 2), dtype=float32, numpy=\n",
      "array([[  38.    ,  194.9117],\n",
      "       [ 418.55  , 1368.    ]], dtype=float32)>]\n"
     ]
    }
   ],
   "source": [
    "my_list = [[1., 2.], [3., 4.]]\n",
    "a = tf.constant(my_list)\n",
    "b = tf.square(a)\n",
    "c = tf.sqrt(a)\n",
    "d = b + c\n",
    "e = tf.matmul(a, b) # matrix multiplication\n",
    "f = e * d\n",
    "\n",
    "print([a, b, c, d, e, f])"
   ]
  },
  {
   "cell_type": "markdown",
   "id": "3565041d",
   "metadata": {},
   "source": [
    "## 6. Use GradientTape API to retrieve the gradient of differentiable expression"
   ]
  },
  {
   "cell_type": "markdown",
   "id": "6e502205",
   "metadata": {},
   "source": [
    "## Example 1: Gradient of a Simple Function\n",
    "Let's start with a basic mathematical function, $y=x^2$. We want to find the gradient of y with respect to x, which we know is $y = 2x$."
   ]
  },
  {
   "cell_type": "code",
   "execution_count": 2,
   "id": "3055c688",
   "metadata": {},
   "outputs": [
    {
     "name": "stdout",
     "output_type": "stream",
     "text": [
      "The gradient of y with respect to x at x = 3.0 is: 6.0\n"
     ]
    }
   ],
   "source": [
    "# Define a variable 'x'. GradientTape automatically watches tf.Variable.\n",
    "x = tf.Variable(3.0)\n",
    "\n",
    "# Start the GradientTape context\n",
    "with tf.GradientTape() as tape:\n",
    "  # Define the function y = x^2\n",
    "  y = tf.square(x)\n",
    "\n",
    "# Calculate the gradient of y with respect to x\n",
    "dy_dx = tape.gradient(y, x)\n",
    "\n",
    "# .numpy() converts a TensorFlow tensor into a NumPy array.\n",
    "print(f\"The gradient of y with respect to x at x = 3.0 is: {dy_dx.numpy()}\")\n",
    "# Expected output: 6.0 (since 2 * 3.0 = 6.0)"
   ]
  },
  {
   "cell_type": "markdown",
   "id": "23be85bb",
   "metadata": {},
   "source": [
    "## How to Compute **secondary derivative** in TensorFlow ⚙️\n",
    "You use two GradientTape blocks, one nested inside the other.\n",
    "\n",
    "1. The **inner tape** records the operations to compute the first gradient.\n",
    "\n",
    "2. The **outer tape** records the operations of the inner tape, including the calculation of the first gradient."
   ]
  },
  {
   "cell_type": "code",
   "execution_count": 22,
   "id": "b0f2fff3",
   "metadata": {},
   "outputs": [
    {
     "name": "stdout",
     "output_type": "stream",
     "text": [
      "Original function value at x=2.0: y = 8.0\n",
      "First-order gradient at x=2.0 (3 * 2^2): 12.0\n",
      "Second-order gradient at x=2.0 (6 * 2): 12.0\n"
     ]
    }
   ],
   "source": [
    "# Use a tf.Variable, as tapes automatically watch them.\n",
    "x = tf.Variable(2.0)\n",
    "\n",
    "# Nest two GradientTape contexts\n",
    "with tf.GradientTape() as outer_tape:\n",
    "    with tf.GradientTape() as inner_tape:\n",
    "        # Define the function inside the inner tape\n",
    "        y = x**3\n",
    "    \n",
    "    # Calculate the 1st order gradient using the inner tape.\n",
    "    # The outer tape records this operation.\n",
    "    first_gradient = inner_tape.gradient(y, x)\n",
    "\n",
    "# Calculate the 2nd order gradient using the outer tape.\n",
    "# This is the gradient of the first gradient.\n",
    "second_gradient = outer_tape.gradient(first_gradient, x)\n",
    "\n",
    "print(f\"Original function value at x=2.0: y = {y.numpy()}\")\n",
    "print(f\"First-order gradient at x=2.0 (3 * 2^2): {first_gradient.numpy()}\")\n",
    "print(f\"Second-order gradient at x=2.0 (6 * 2): {second_gradient.numpy()}\")"
   ]
  },
  {
   "cell_type": "markdown",
   "id": "2f0a3d50",
   "metadata": {},
   "source": [
    "By default, a GradientTape releases its resources as soon as `tape.gradient()` is called. If you need to compute multiple gradients from the same computation, you must create a persistent tape."
   ]
  },
  {
   "cell_type": "code",
   "execution_count": 21,
   "id": "1b16fe83",
   "metadata": {},
   "outputs": [
    {
     "name": "stdout",
     "output_type": "stream",
     "text": [
      "dy/dx at x=2.0 is: 4.0\n",
      "dz/dx at x=2.0 is: 12.0\n"
     ]
    }
   ],
   "source": [
    "import tensorflow as tf\n",
    "\n",
    "x = tf.Variable(2.0)\n",
    "\n",
    "# Create a persistent tape\n",
    "with tf.GradientTape(persistent=True) as tape:\n",
    "  y = x**2\n",
    "  z = x**3\n",
    "\n",
    "# Calculate the first gradient\n",
    "dy_dx = tape.gradient(y, x)\n",
    "print(f\"dy/dx at x=2.0 is: {dy_dx.numpy()}\") # Should be 2*2 = 4.0\n",
    "\n",
    "# Calculate the second gradient from the same tape\n",
    "dz_dx = tape.gradient(z, x)\n",
    "print(f\"dz/dx at x=2.0 is: {dz_dx.numpy()}\") # Should be 3*(2^2) = 12.0\n",
    "\n",
    "# Manually delete the tape when you're done with it to free up memory\n",
    "del tape"
   ]
  }
 ],
 "metadata": {
  "kernelspec": {
   "display_name": "base",
   "language": "python",
   "name": "python3"
  },
  "language_info": {
   "codemirror_mode": {
    "name": "ipython",
    "version": 3
   },
   "file_extension": ".py",
   "mimetype": "text/x-python",
   "name": "python",
   "nbconvert_exporter": "python",
   "pygments_lexer": "ipython3",
   "version": "3.12.9"
  }
 },
 "nbformat": 4,
 "nbformat_minor": 5
}
