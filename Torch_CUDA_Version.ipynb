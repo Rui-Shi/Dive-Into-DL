{
 "cells": [
  {
   "cell_type": "code",
   "execution_count": 1,
   "id": "bcad235a",
   "metadata": {},
   "outputs": [
    {
     "name": "stderr",
     "output_type": "stream",
     "text": [
      "c:\\Users\\shiru\\anaconda3\\envs\\d2l\\lib\\site-packages\\torchvision\\models\\detection\\anchor_utils.py:63: UserWarning: Failed to initialize NumPy: DLL load failed while importing _multiarray_umath: The specified module could not be found. (Triggered internally at C:\\cb\\pytorch_1000000000000\\work\\torch\\csrc\\utils\\tensor_numpy.cpp:84.)\n",
      "  device: torch.device = torch.device(\"cpu\"),\n"
     ]
    },
    {
     "name": "stdout",
     "output_type": "stream",
     "text": [
      "Python Version: 3.9.24 (main, Oct 21 2025, 20:14:38) [MSC v.1929 64 bit (AMD64)]\n",
      "------------------------------\n",
      "PyTorch Version: 2.0.0\n",
      "------------------------------\n",
      "Torchvision Version: 0.15.0\n",
      "------------------------------\n",
      "--- CUDA Information ---\n",
      "CUDA is AVAILABLE\n",
      "PyTorch-linked CUDA Version: 11.8\n",
      "Detected 1 CUDA-capable device(s).\n",
      "  Device 0: NVIDIA GeForce RTX 4060 Laptop GPU\n",
      "    Total memory: 8.00 GB\n",
      "------------------------------\n"
     ]
    }
   ],
   "source": [
    "import torch\n",
    "import torchvision\n",
    "import sys\n",
    "\n",
    "def check_versions():\n",
    "    \"\"\"Prints the versions of PyTorch, Torchvision, and CUDA.\"\"\"\n",
    "    \n",
    "    print(f\"Python Version: {sys.version}\")\n",
    "    print(\"-\" * 30)\n",
    "    \n",
    "    # Check PyTorch\n",
    "    print(f\"PyTorch Version: {torch.__version__}\")\n",
    "    print(\"-\" * 30)\n",
    "\n",
    "    # Check Torchvision\n",
    "    print(f\"Torchvision Version: {torchvision.__version__}\")\n",
    "    print(\"-\" * 30)\n",
    "\n",
    "    # Check CUDA\n",
    "    print(\"--- CUDA Information ---\")\n",
    "    if torch.cuda.is_available():\n",
    "        print(\"CUDA is AVAILABLE\")\n",
    "        # This is the CUDA version PyTorch was compiled with\n",
    "        print(f\"PyTorch-linked CUDA Version: {torch.version.cuda}\")\n",
    "        \n",
    "        # Get details for each available GPU\n",
    "        device_count = torch.cuda.device_count()\n",
    "        print(f\"Detected {device_count} CUDA-capable device(s).\")\n",
    "        for i in range(device_count):\n",
    "            print(f\"  Device {i}: {torch.cuda.get_device_name(i)}\")\n",
    "            print(f\"    Total memory: {torch.cuda.get_device_properties(i).total_memory / (1024**3):.2f} GB\")\n",
    "    else:\n",
    "        print(\"CUDA is NOT available.\")\n",
    "        print(\"PyTorch is running in CPU-only mode.\")\n",
    "    print(\"-\" * 30)\n",
    "\n",
    "if __name__ == \"__main__\":\n",
    "    check_versions()\n"
   ]
  }
 ],
 "metadata": {
  "kernelspec": {
   "display_name": "d2l",
   "language": "python",
   "name": "python3"
  },
  "language_info": {
   "codemirror_mode": {
    "name": "ipython",
    "version": 3
   },
   "file_extension": ".py",
   "mimetype": "text/x-python",
   "name": "python",
   "nbconvert_exporter": "python",
   "pygments_lexer": "ipython3",
   "version": "3.9.24"
  }
 },
 "nbformat": 4,
 "nbformat_minor": 5
}
